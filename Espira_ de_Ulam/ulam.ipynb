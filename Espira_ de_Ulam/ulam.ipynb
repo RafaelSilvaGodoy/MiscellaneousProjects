{
 "cells": [
  {
   "cell_type": "markdown",
   "metadata": {},
   "source": [
    "# Ulam spiral\n",
    "\n",
    "This notebook recriates the Ulam spiral (Primal spiral).\n",
    "\n",
    "Check more about it in: https://en.wikipedia.org/wiki/Ulam_spiral\n",
    "\n",
    "Author: Rafael Godoy\n",
    "\n",
    "LinkedIn: https://www.linkedin.com/in/Rafael-Godoy-ML-Eng\n",
    "\n",
    "Github: https://github.com/RafaelSilvaGodoy"
   ]
  },
  {
   "cell_type": "code",
   "execution_count": 1,
   "metadata": {},
   "outputs": [],
   "source": [
    "import matplotlib.pyplot as plt"
   ]
  },
  {
   "cell_type": "code",
   "execution_count": 65,
   "metadata": {},
   "outputs": [],
   "source": [
    "# Prime list initialized with the first prime\n",
    "prime_list = [2]\n",
    "\n",
    "def isPrime(num:int)-> bool:\n",
    "    \"\"\"\n",
    "    Checks if a number is prime through a list of privious calculated primes. If so, the list is updated.\n",
    "    This list method is used to optimize compute processing time.\n",
    "    Input:\n",
    "        - num: Integer number to be check if it is prime.\n",
    "    Output:\n",
    "        - Boolean value being true-> prime number. false-> composite number.\n",
    "    \"\"\"\n",
    "    global prime_list\n",
    "    \n",
    "    # 1 is not prime\n",
    "    if num == 1:\n",
    "        return False\n",
    "\n",
    "    # Checks if it isn't on the prime list itself\n",
    "    if num in prime_list:\n",
    "        return True\n",
    "\n",
    "    # Checks if it is divisible by any primes on the list\n",
    "    for prime in prime_list:\n",
    "        if(num%prime == 0):\n",
    "            return False\n",
    "\n",
    "    # Updates the prime list        \n",
    "    prime_list.append(num)\n",
    "    return True\n"
   ]
  },
  {
   "cell_type": "code",
   "execution_count": 75,
   "metadata": {},
   "outputs": [],
   "source": [
    "def control_direction(i,j,move):\n",
    "    \"\"\"\n",
    "        Adjust the i and j coordinates according to the command given.\n",
    "        Inputs:\n",
    "            - i: coordenate x.\n",
    "            - j: coordenate y.\n",
    "            - move: Command \"R\": Right, \"L\": Left, \"U\": Upper, \"D\": Down.\n",
    "        Outputs:\n",
    "            - i: new x coordanete after moving.\n",
    "            - y: new y coordanete after moving.\n",
    "    \"\"\"\n",
    "    if move == \"R\":\n",
    "        # Turn right\n",
    "        return i+1,j\n",
    "\n",
    "    if move == \"U\":\n",
    "        # Turn up\n",
    "        return i,j+1\n",
    "\n",
    "    if move == \"L\":\n",
    "        # Turn left\n",
    "        return i-1,j\n",
    "        \n",
    "    if move == \"D\":\n",
    "        # Turn down\n",
    "        return i,j-1"
   ]
  },
  {
   "cell_type": "code",
   "execution_count": 153,
   "metadata": {},
   "outputs": [],
   "source": [
    "def spiral(max_num:int):\n",
    "    \"\"\"\n",
    "        Plot the dots in spirtal if it correspond to a prime number.\n",
    "        Inputs:\n",
    "            - max_num: Number of dots to fill the plot. (Set the same number as the axis boundries).\n",
    "        Outputs:\n",
    "            - x: list of the x coordinates.\n",
    "            - y: list of the y coordinates.\n",
    "    \"\"\"\n",
    "    x = []\n",
    "    y = []\n",
    "\n",
    "    i = 0\n",
    "    j = 0\n",
    "    numStep = 0\n",
    "    control = 0\n",
    "\n",
    "    x0 = max_num/2\n",
    "    y0 = max_num/2\n",
    "\n",
    "    flag_left_upper = True\n",
    "\n",
    "    \n",
    "    while numStep <= max_num**2:\n",
    "\n",
    "        if numStep == 0:\n",
    "            if isPrime(numStep+1):\n",
    "                x.append(x0+i)\n",
    "                y.append(y0+j)\n",
    "            numStep += 1\n",
    "            control += 1\n",
    "\n",
    "        if flag_left_upper:\n",
    "            for _ in range(control):\n",
    "                i,j = control_direction(i,j,\"R\")\n",
    "                if isPrime(numStep+1):\n",
    "                    x.append(x0+i)\n",
    "                    y.append(y0+j)\n",
    "                numStep += 1\n",
    "\n",
    "            for _ in range(control):\n",
    "                i,j = control_direction(i,j,\"U\")\n",
    "                if isPrime(numStep+1):\n",
    "                    x.append(x0+i)\n",
    "                    y.append(y0+j)\n",
    "                numStep += 1\n",
    "\n",
    "            flag_left_upper = False\n",
    "            control += 1\n",
    "\n",
    "        else:\n",
    "            for _ in range(control):\n",
    "                i,j = control_direction(i,j,\"L\")\n",
    "                if isPrime(numStep+1):\n",
    "                    x.append(x0+i)\n",
    "                    y.append(y0+j)\n",
    "                numStep += 1\n",
    "\n",
    "            for _ in range(control):\n",
    "                i,j = control_direction(i,j,\"D\")\n",
    "                if isPrime(numStep+1):\n",
    "                    x.append(x0+i)\n",
    "                    y.append(y0+j)\n",
    "                numStep += 1\n",
    "\n",
    "            flag_left_upper = True\n",
    "            control += 1         \n",
    "            \n",
    "    return x,y\n",
    "    "
   ]
  },
  {
   "cell_type": "code",
   "execution_count": 170,
   "metadata": {},
   "outputs": [
    {
     "data": {
      "image/png": "[encoded data removed]",
      "text/plain": [
       "<Figure size 480x480 with 1 Axes>"
      ]
     },
     "metadata": {
      "needs_background": "light"
     },
     "output_type": "display_data"
    }
   ],
   "source": [
    "size = 200\n",
    "\n",
    "x, y = spiral(size)\n",
    "\n",
    "plt.figure(figsize=(6, 6), dpi=80)\n",
    "ax = plt.gca()\n",
    "ax.set_xlim([0, size])\n",
    "ax.set_ylim([0, size])\n",
    "plt.scatter(x,y,s=1)\n",
    "plt.savefig(\"Ulam_spiral.png\", bbox_inches='tight')\n",
    "plt.show()"
   ]
  },
  {
   "cell_type": "markdown",
   "metadata": {},
   "source": [
    "Check the image on https://pt.wikipedia.org/wiki/Espiral_de_Ulam#/media/Ficheiro:Ulam_1.png\n",
    "\n",
    "![](../../../Users/rafae/OneDrive/%C3%81rea%20de%20Trabalho/Ulam_1.png)"
   ]
  },
  {
   "cell_type": "markdown",
   "metadata": {},
   "source": [
    "![](Ulam_1.png)"
   ]
  }
 ],
 "metadata": {
  "kernelspec": {
   "display_name": "Python 3.8.8 ('base')",
   "language": "python",
   "name": "python3"
  },
  "language_info": {
   "codemirror_mode": {
    "name": "ipython",
    "version": 3
   },
   "file_extension": ".py",
   "mimetype": "text/x-python",
   "name": "python",
   "nbconvert_exporter": "python",
   "pygments_lexer": "ipython3",
   "version": "3.8.8"
  },
  "orig_nbformat": 4,
  "vscode": {
   "interpreter": {
    "hash": "6f5583cf1d9466b5c27e75c89cc6b383bed5736d6b16c51c8074d8690011a952"
   }
  }
 },
 "nbformat": 4,
 "nbformat_minor": 2
}
