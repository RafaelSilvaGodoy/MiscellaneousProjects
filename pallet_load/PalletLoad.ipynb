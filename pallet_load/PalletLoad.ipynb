{
  "cells": [
    {
      "cell_type": "markdown",
      "metadata": {},
      "source": [
        "# Pallet Load Problem\n",
        "## Author: Rafael Godoy\n",
        "## LinkedIn: https://www.linkedin.com/in/Rafael-Godoy-ML-Eng\n",
        "## Github: https://github.com/RafaelSilvaGodoy\n",
        "\n",
        "For more informations check: https://en.wikipedia.org/wiki/Packing_problems"
      ]
    },
    {
      "cell_type": "code",
      "execution_count": 1,
      "metadata": {
        "id": "Hf2cpuAbvRro"
      },
      "outputs": [],
      "source": [
        "import numpy as np\n",
        "import matplotlib.pyplot as plt"
      ]
    },
    {
      "cell_type": "code",
      "execution_count": 2,
      "metadata": {
        "id": "bx6A92ZRvUmM"
      },
      "outputs": [],
      "source": [
        "# This notebook was made to fit rectanguar boxes into rectangular pallets.\n",
        "\n",
        "# Pallet size\n",
        "W = 10\n",
        "L = 10\n",
        "\n",
        "# Product size\n",
        "w = 2\n",
        "l = 3"
      ]
    },
    {
      "cell_type": "code",
      "execution_count": 3,
      "metadata": {
        "id": "UnlVHM8cQeux"
      },
      "outputs": [],
      "source": [
        "def box_h(w,l,x,y,pallet,n):\n",
        "'''\n",
        "  This function position a horizontal rectangle into the pallet.\n",
        "\n",
        "  Inputs:\n",
        "    w: boxes width;\n",
        "    l: boxes lenght;\n",
        "    x: x coordenate of the box on the pallet;\n",
        "    y: y coordenate of the box on the pallet;\n",
        "    pallet: the pallet matrix that the box will be fitted;\n",
        "    n: Number of boxes already placed;\n",
        "  Outputs:\n",
        "    True: If the function was able to place a box;\n",
        "    False: If the function was unable to place a box;\n",
        "'''\n",
        "    X = pallet.shape[1]\n",
        "    Y = pallet.shape[0]\n",
        "\n",
        "    flag1 = x+l <= X\n",
        "    flag2 = y+w <= Y\n",
        "\n",
        "    if not (flag1&flag2):\n",
        "      return(False)\n",
        " \n",
        "    for i in range(x, (x+l)):\n",
        "      for j in range(y, (y+w)):\n",
        "        if (pallet[j,i] != 0):\n",
        "          return(False)\n",
        "\n",
        "    for i in range(x, (x+l)):\n",
        "      for j in range(y, (y+w)):\n",
        "        pallet[j,i] = n\n",
        "\n",
        "    return(True)   "
      ]
    },
    {
      "cell_type": "code",
      "execution_count": 4,
      "metadata": {
        "id": "wyWWOX9ESNla"
      },
      "outputs": [],
      "source": [
        "def box_v(w,l,x,y,pallet,n):\n",
        "'''\n",
        "  This function position a vertical rectangle into the pallet.\n",
        "  \n",
        "  Inputs:\n",
        "    w: boxes width;\n",
        "    l: boxes lenght;\n",
        "    x: x coordenate of the box on the pallet;\n",
        "    y: y coordenate of the box on the pallet;\n",
        "    pallet: the pallet matrix that the box will be fitted;\n",
        "    n: Number of boxes already placed;\n",
        "  Outputs:\n",
        "    True: If the function was able to place a box;\n",
        "    False: If the function was unable to place a box;\n",
        "'''\n",
        "    X = pallet.shape[1]\n",
        "    Y = pallet.shape[0]\n",
        "\n",
        "    flag1 = x+w <= X\n",
        "    flag2 = y+l <= Y\n",
        "\n",
        "    if not (flag1&flag2):\n",
        "      return(False)\n",
        " \n",
        "    for i in range(x, (x+w)):\n",
        "      for j in range(y, (y+l)):\n",
        "        if (pallet[j,i] != 0):\n",
        "          return(False)\n",
        "\n",
        "    for i in range(x, (x+w)):\n",
        "      for j in range(y, (y+l)):\n",
        "        pallet[j,i] = n\n",
        "\n",
        "    return(True)"
      ]
    },
    {
      "cell_type": "code",
      "execution_count": 5,
      "metadata": {},
      "outputs": [],
      "source": [
        "ref = np.zeros((W,L))\n",
        "area = 0\n",
        "boxes = 0\n",
        "\n",
        "# Tries 10k different pallet placement and saves the best result gotten.\n",
        "for r in range(10_000):\n",
        "\n",
        "  pallet = np.zeros((W,L))\n",
        "  n = 0\n",
        "  aux_x = 0\n",
        "  aux_y = 0\n",
        "  flag = True\n",
        "  \n",
        "  while flag:\n",
        "    \n",
        "    aux_flag = False\n",
        "\n",
        "    # Randomly chooses if it is going to be placed\n",
        "    # either a vertical box or a horizontal one.\n",
        "    if np.random.rand()>0.5:\n",
        "      if box_h(w,l,aux_x,aux_y,pallet,n):\n",
        "        n += 1\n",
        "        aux_x += l\n",
        "        aux_flag = True\n",
        "      else:\n",
        "        if box_v(w,l,aux_x,aux_y,pallet,n):\n",
        "          n += 1\n",
        "          aux_x += w\n",
        "          aux_flag = True\n",
        "    else:\n",
        "      if box_v(w,l,aux_x,aux_y,pallet,n):\n",
        "        n += 1\n",
        "        aux_x += w\n",
        "        aux_flag = True\n",
        "      else:\n",
        "        if box_h(w,l,aux_x,aux_y,pallet,n):\n",
        "          n += 1\n",
        "          aux_x += l\n",
        "          aux_flag = True\n",
        "    \n",
        "    # If a box won't fit next to the previous one\n",
        "    if not aux_flag:\n",
        "      aux_x += 1\n",
        "\n",
        "    # If all rows and columns have been swiped\n",
        "    # it resets the loop\n",
        "    if (aux_x + l > L) & (aux_x + w > L):\n",
        "        aux_x = 0\n",
        "        aux_y += 1\n",
        "        if (aux_y > W):\n",
        "          flag = False\n",
        "\n",
        "  area_aux = round(np.count_nonzero(pallet)/(W*L)*100,2)\n",
        "  boxes_aux = pallet.max()\n",
        "\n",
        "  # Check if the value found is better than the saved one.\n",
        "  if boxes <= boxes_aux:\n",
        "      area = area_aux\n",
        "      ref = pallet.copy()\n",
        "      boxes = boxes_aux"
      ]
    },
    {
      "cell_type": "code",
      "execution_count": 6,
      "metadata": {},
      "outputs": [
        {
          "name": "stdout",
          "output_type": "stream",
          "text": [
            "Area Filled: 96.0%\n",
            "Boxes fit: 16.0\n"
          ]
        },
        {
          "data": {
            "image/png": "[encoded data removed]",
            "text/plain": [
              "<Figure size 432x288 with 1 Axes>"
            ]
          },
          "metadata": {
            "needs_background": "light"
          },
          "output_type": "display_data"
        }
      ],
      "source": [
        "print(f\"Area Filled: {area}%\")\n",
        "print(f\"Boxes fit: {ref.max()}\")\n",
        "\n",
        "imgplot = plt.imshow(ref)\n",
        "plt.show()"
      ]
    }
  ],
  "metadata": {
    "colab": {
      "collapsed_sections": [],
      "name": "PalletLoad.ipynb",
      "provenance": []
    },
    "interpreter": {
      "hash": "ed225720166559e7176d3793db16a2fd8d295f725007103b21ac3099d2a89ee8"
    },
    "kernelspec": {
      "display_name": "Python 3.8.8 64-bit ('base': conda)",
      "name": "python3"
    },
    "language_info": {
      "codemirror_mode": {
        "name": "ipython",
        "version": 3
      },
      "file_extension": ".py",
      "mimetype": "text/x-python",
      "name": "python",
      "nbconvert_exporter": "python",
      "pygments_lexer": "ipython3",
      "version": "3.8.8"
    }
  },
  "nbformat": 4,
  "nbformat_minor": 0
}
